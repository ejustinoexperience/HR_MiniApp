{
  "nbformat": 4,
  "nbformat_minor": 0,
  "metadata": {
    "colab": {
      "name": "Untitled2.ipynb",
      "provenance": [],
      "authorship_tag": "ABX9TyN88yYVk/hwl8EP8DX6zvwK",
      "include_colab_link": true
    },
    "kernelspec": {
      "name": "python3",
      "display_name": "Python 3"
    },
    "language_info": {
      "name": "python"
    }
  },
  "cells": [
    {
      "cell_type": "markdown",
      "metadata": {
        "id": "view-in-github",
        "colab_type": "text"
      },
      "source": [
        "<a href=\"https://colab.research.google.com/github/ejustinoexperience/HR_MiniApp/blob/master/PredictingEmployeeChurn.ipynb\" target=\"_parent\"><img src=\"https://colab.research.google.com/assets/colab-badge.svg\" alt=\"Open In Colab\"/></a>"
      ]
    },
    {
      "cell_type": "code",
      "execution_count": 14,
      "metadata": {
        "id": "aGHP0qPf8gZf"
      },
      "outputs": [],
      "source": [
        "#import modules\n",
        "import pandas as pd # for dataframes\n",
        "import matplotlib.pyplot as plt # for plotting graphs\n",
        "import seaborn as sns # for plotting graphs\n",
        "% matplotlib inline"
      ]
    },
    {
      "cell_type": "code",
      "source": [
        "data=pd.read_csv('/content/sample_data/HR_comma_sep.csv', sep = ',')"
      ],
      "metadata": {
        "id": "-06DZ3FjDA6A"
      },
      "execution_count": 15,
      "outputs": []
    }
  ]
}